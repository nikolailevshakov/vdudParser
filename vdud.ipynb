{
 "cells": [
  {
   "cell_type": "code",
   "execution_count": 142,
   "metadata": {},
   "outputs": [],
   "source": [
    "import numpy as np\n",
    "import pandas as pd\n",
    "from selenium.webdriver import Chrome, ActionChains\n",
    "from selenium.common.exceptions import NoSuchElementException \n",
    "import time\n",
    "import datetime"
   ]
  },
  {
   "cell_type": "code",
   "execution_count": 143,
   "metadata": {},
   "outputs": [],
   "source": [
    "# Creating dataframe, for the parsed data\n",
    "cols = ['full_title', 'guest', 'length', 'views', 'likes', 'dislikes', 'date', 'comments']\n",
    "data = []\n",
    "df = pd.DataFrame(data = data, columns = cols)"
   ]
  },
  {
   "cell_type": "code",
   "execution_count": 144,
   "metadata": {},
   "outputs": [],
   "source": [
    "# Link on the page for all the videos\n",
    "all_Videos = 'https://www.youtube.com/c/vdud/videos'"
   ]
  },
  {
   "cell_type": "code",
   "execution_count": 145,
   "metadata": {},
   "outputs": [],
   "source": [
    "#Starting browser\n",
    "driver = Chrome('C:/WebDriver/chromedriver')\n",
    "driver.get(all_Videos)\n",
    "driver.maximize_window()"
   ]
  },
  {
   "cell_type": "code",
   "execution_count": 146,
   "metadata": {},
   "outputs": [],
   "source": [
    "# Function to load all the videos\n",
    "def scrollDown():\n",
    "    driver.execute_script(\"window.scrollTo(0, 1660)\")\n",
    "    time.sleep(2)\n",
    "    driver.execute_script(\"window.scrollTo(0, 3200)\")\n",
    "    time.sleep(2)\n",
    "    driver.execute_script(\"window.scrollTo(0, 5000)\")\n",
    "    time.sleep(2)"
   ]
  },
  {
   "cell_type": "code",
   "execution_count": 147,
   "metadata": {},
   "outputs": [],
   "source": [
    "scrollDown()"
   ]
  },
  {
   "cell_type": "code",
   "execution_count": 148,
   "metadata": {},
   "outputs": [],
   "source": [
    "# Collect all the videos and get the list of links\n",
    "play_list = driver.find_elements_by_id('thumbnail')\n",
    "\n",
    "hrefs = []\n",
    "for video in play_list:\n",
    "    hrefs.append(video.get_attribute('href'))"
   ]
  },
  {
   "cell_type": "code",
   "execution_count": 149,
   "metadata": {},
   "outputs": [
    {
     "data": {
      "text/plain": [
       "118"
      ]
     },
     "execution_count": 149,
     "metadata": {},
     "output_type": "execute_result"
    }
   ],
   "source": [
    "# It appears that some links were collected twice\n",
    "hrefs = list(set(hrefs))\n",
    "len(hrefs)"
   ]
  },
  {
   "cell_type": "code",
   "execution_count": 150,
   "metadata": {},
   "outputs": [],
   "source": [
    "# Check if the advertisment button exists\n",
    "def check_if_btn_exists():\n",
    "    try:\n",
    "        driver.find_element_by_class_name('ytp-ad-skip-button-text')\n",
    "    except NoSuchElementException:\n",
    "        return False\n",
    "    return True"
   ]
  },
  {
   "cell_type": "code",
   "execution_count": 151,
   "metadata": {},
   "outputs": [],
   "source": [
    "# Getting length of the video in minutes\n",
    "# If statement on the len of the string in order not to get length of the advertising video\n",
    "def getLength():\n",
    "    length = driver.find_element_by_class_name('ytp-time-duration').text\n",
    "    \n",
    "    if check_if_btn_exists() \\\n",
    "    and driver.find_element_by_class_name('ytp-ad-skip-button-text').text in ('Пропустить рекламу', 'Пропустить'):\n",
    "        driver.find_element_by_class_name('ytp-ad-skip-button-text').click()\n",
    "    \n",
    "    if len(length)<5:\n",
    "        time.sleep(1.5)\n",
    "        return getLength()\n",
    "    elif len(length.split(':')) == 3:\n",
    "        return int(length.split(':')[0])*60 + int(length.split(':')[1])\n",
    "    else:\n",
    "        return int(length.split(':')[0])"
   ]
  },
  {
   "cell_type": "code",
   "execution_count": 152,
   "metadata": {},
   "outputs": [],
   "source": [
    "# Getting full title and the name of the guest\n",
    "def getTitle():\n",
    "    full_title = driver.title\n",
    "    \n",
    "    title_end = full_title.find(' / ')\n",
    "    if title_end < 0:\n",
    "        title_end = full_title.find('.')\n",
    "        if title_end < 0:\n",
    "            title_end = full_title.find('(') - 1\n",
    "            \n",
    "    full_title = full_title[0:title_end]\n",
    "    if full_title.find(' - ') > 0:\n",
    "        guest = full_title[0:full_title.find('-')]\n",
    "    elif full_title.find(' — ') > 0:\n",
    "            guest = full_title[0:full_title.find('—')]\n",
    "    elif full_title.find(' – ') > 0:\n",
    "        guest = full_title[0:full_title.find('–')]\n",
    "    elif full_title.find('. ') > 0:\n",
    "            guest = full_title[0:full_title.find('.')]\n",
    "    elif full_title.find(': ') > 0:\n",
    "            guest = full_title[0:full_title.find(':')]\n",
    "    else:\n",
    "        guest = full_title\n",
    "    return [full_title, guest]"
   ]
  },
  {
   "cell_type": "code",
   "execution_count": 153,
   "metadata": {},
   "outputs": [],
   "source": [
    "# Getting statistics information about the video\n",
    "def getVideoStats():\n",
    "    views = driver.find_element_by_class_name('yt-view-count-renderer').text\n",
    "    views = int(views[0: views.find('п')-1].replace(' ', ''))\n",
    "    likesDislikes = driver.find_element_by_id('top-level-buttons').text\n",
    "    listLikDis = likesDislikes.replace(',', '.').split('\\n')\n",
    "    \n",
    "    if listLikDis[0].find('ТЫС.') > 0:\n",
    "        likes = float(listLikDis[0].split()[0])*1000\n",
    "    elif listLikDis[0].find('МЛН') > 0:\n",
    "        likes = float(listLikDis[0].split()[0])*1000000\n",
    "        \n",
    "    if listLikDis[1].find('ТЫС.') > 0:\n",
    "        dislikes = float(listLikDis[1].split()[0])*1000\n",
    "    elif listLikDis[1].find('МЛН') > 0:\n",
    "        dislikes = float(listLikDis[1].split()[0])*1000000 \n",
    "        \n",
    "    return [views, likes, dislikes]"
   ]
  },
  {
   "cell_type": "code",
   "execution_count": 154,
   "metadata": {},
   "outputs": [],
   "source": [
    "# Getting date of the interview\n",
    "def getDate():\n",
    "    date = driver.find_element_by_id('date').text.split()\n",
    "    day = int(date[0][1:])\n",
    "    \n",
    "    months = ['янв', 'фев', 'мар', 'апр', 'мая', 'июн', 'июл', 'авг', 'сен', 'окт', 'ноя', 'дек']\n",
    "    for i, mon in enumerate(months):\n",
    "        if mon == date[1][:3]:\n",
    "            month = i+1\n",
    "            \n",
    "    year = int(date[2])\n",
    "    return datetime.datetime(year, month, day)"
   ]
  },
  {
   "cell_type": "code",
   "execution_count": 155,
   "metadata": {},
   "outputs": [],
   "source": [
    "# Getting the amount of comments\n",
    "def getComms():\n",
    "    driver.execute_script(\"window.scrollTo(0, 880)\")\n",
    "    time.sleep(2)\n",
    "    coms = driver.find_element_by_class_name('count-text').text\n",
    "    return int(coms.split()[0])*1000 + int(coms.split()[1])"
   ]
  },
  {
   "cell_type": "code",
   "execution_count": 156,
   "metadata": {},
   "outputs": [],
   "source": [
    "# Collecting all the information and updating the dataframe\n",
    "def dfAppend():\n",
    "    global df\n",
    "    item = [getTitle()[0], getTitle()[1], getLength(), getVideoStats()[0], getVideoStats()[1], \n",
    "          getVideoStats()[2], getDate(), getComms()]\n",
    "    series = pd.Series(item, index=df.columns)\n",
    "    df = df.append(series, ignore_index=True)"
   ]
  },
  {
   "cell_type": "code",
   "execution_count": 157,
   "metadata": {},
   "outputs": [],
   "source": [
    "# Going through the collected links\n",
    "def goHrefs():\n",
    "    for href in hrefs:\n",
    "        if type(href) == str:\n",
    "            driver.get(href)\n",
    "            time.sleep(2)\n",
    "            dfAppend()"
   ]
  },
  {
   "cell_type": "code",
   "execution_count": 158,
   "metadata": {},
   "outputs": [
    {
     "name": "stdout",
     "output_type": "stream",
     "text": [
      "Time to get all the data: 14.63 mins\n"
     ]
    }
   ],
   "source": [
    "t = time.time()\n",
    "goHrefs()\n",
    "print('Time to get all the data: {} mins'.format(round((time.time() - t) / 60, 2)))"
   ]
  },
  {
   "cell_type": "code",
   "execution_count": 159,
   "metadata": {},
   "outputs": [
    {
     "data": {
      "text/plain": [
       "(117, 8)"
      ]
     },
     "execution_count": 159,
     "metadata": {},
     "output_type": "execute_result"
    }
   ],
   "source": [
    "df.shape"
   ]
  },
  {
   "cell_type": "code",
   "execution_count": 160,
   "metadata": {},
   "outputs": [
    {
     "data": {
      "text/html": [
       "<div>\n",
       "<style scoped>\n",
       "    .dataframe tbody tr th:only-of-type {\n",
       "        vertical-align: middle;\n",
       "    }\n",
       "\n",
       "    .dataframe tbody tr th {\n",
       "        vertical-align: top;\n",
       "    }\n",
       "\n",
       "    .dataframe thead th {\n",
       "        text-align: right;\n",
       "    }\n",
       "</style>\n",
       "<table border=\"1\" class=\"dataframe\">\n",
       "  <thead>\n",
       "    <tr style=\"text-align: right;\">\n",
       "      <th></th>\n",
       "      <th>full_title</th>\n",
       "      <th>guest</th>\n",
       "      <th>length</th>\n",
       "      <th>views</th>\n",
       "      <th>likes</th>\n",
       "      <th>dislikes</th>\n",
       "      <th>date</th>\n",
       "      <th>comments</th>\n",
       "    </tr>\n",
       "  </thead>\n",
       "  <tbody>\n",
       "    <tr>\n",
       "      <th>0</th>\n",
       "      <td>Долгополов - депрессия, политика, секс втроем</td>\n",
       "      <td>Долгополов</td>\n",
       "      <td>84</td>\n",
       "      <td>7461608</td>\n",
       "      <td>304000.0</td>\n",
       "      <td>36000.0</td>\n",
       "      <td>2019-11-25</td>\n",
       "      <td>40781</td>\n",
       "    </tr>\n",
       "    <tr>\n",
       "      <th>1</th>\n",
       "      <td>Егор Крид - уход из Black Star и звонок Попере...</td>\n",
       "      <td>Егор Крид</td>\n",
       "      <td>113</td>\n",
       "      <td>22334678</td>\n",
       "      <td>634000.0</td>\n",
       "      <td>50000.0</td>\n",
       "      <td>2019-05-28</td>\n",
       "      <td>68999</td>\n",
       "    </tr>\n",
       "    <tr>\n",
       "      <th>2</th>\n",
       "      <td>Познер - о цензуре, страхе и Путине</td>\n",
       "      <td>Познер</td>\n",
       "      <td>78</td>\n",
       "      <td>12882333</td>\n",
       "      <td>338000.0</td>\n",
       "      <td>17000.0</td>\n",
       "      <td>2017-10-18</td>\n",
       "      <td>40944</td>\n",
       "    </tr>\n",
       "    <tr>\n",
       "      <th>3</th>\n",
       "      <td>Беслан. Помни</td>\n",
       "      <td>Беслан</td>\n",
       "      <td>190</td>\n",
       "      <td>21968899</td>\n",
       "      <td>1100000.0</td>\n",
       "      <td>32000.0</td>\n",
       "      <td>2019-09-02</td>\n",
       "      <td>128265</td>\n",
       "    </tr>\n",
       "    <tr>\n",
       "      <th>4</th>\n",
       "      <td>BadComedian - о Бондарчуке, Саше Грей и 10 луч...</td>\n",
       "      <td>BadComedian</td>\n",
       "      <td>63</td>\n",
       "      <td>16217778</td>\n",
       "      <td>461000.0</td>\n",
       "      <td>23000.0</td>\n",
       "      <td>2017-05-10</td>\n",
       "      <td>35355</td>\n",
       "    </tr>\n",
       "  </tbody>\n",
       "</table>\n",
       "</div>"
      ],
      "text/plain": [
       "                                          full_title         guest length  \\\n",
       "0      Долгополов - депрессия, политика, секс втроем   Долгополов      84   \n",
       "1  Егор Крид - уход из Black Star и звонок Попере...    Егор Крид     113   \n",
       "2                Познер - о цензуре, страхе и Путине       Познер      78   \n",
       "3                                      Беслан. Помни        Беслан    190   \n",
       "4  BadComedian - о Бондарчуке, Саше Грей и 10 луч...  BadComedian      63   \n",
       "\n",
       "      views      likes  dislikes       date comments  \n",
       "0   7461608   304000.0   36000.0 2019-11-25    40781  \n",
       "1  22334678   634000.0   50000.0 2019-05-28    68999  \n",
       "2  12882333   338000.0   17000.0 2017-10-18    40944  \n",
       "3  21968899  1100000.0   32000.0 2019-09-02   128265  \n",
       "4  16217778   461000.0   23000.0 2017-05-10    35355  "
      ]
     },
     "execution_count": 160,
     "metadata": {},
     "output_type": "execute_result"
    }
   ],
   "source": [
    "df.head()"
   ]
  },
  {
   "cell_type": "code",
   "execution_count": 161,
   "metadata": {},
   "outputs": [],
   "source": [
    "df['likes/dislikes'] = df['likes']/df['dislikes']\n",
    "df['views/likes'] = df['views']/df['likes']\n",
    "df['views/comments'] = df['views']/df['comments']"
   ]
  },
  {
   "cell_type": "code",
   "execution_count": 162,
   "metadata": {},
   "outputs": [
    {
     "data": {
      "text/html": [
       "<div>\n",
       "<style scoped>\n",
       "    .dataframe tbody tr th:only-of-type {\n",
       "        vertical-align: middle;\n",
       "    }\n",
       "\n",
       "    .dataframe tbody tr th {\n",
       "        vertical-align: top;\n",
       "    }\n",
       "\n",
       "    .dataframe thead th {\n",
       "        text-align: right;\n",
       "    }\n",
       "</style>\n",
       "<table border=\"1\" class=\"dataframe\">\n",
       "  <thead>\n",
       "    <tr style=\"text-align: right;\">\n",
       "      <th></th>\n",
       "      <th>full_title</th>\n",
       "      <th>guest</th>\n",
       "      <th>length</th>\n",
       "      <th>views</th>\n",
       "      <th>likes</th>\n",
       "      <th>dislikes</th>\n",
       "      <th>date</th>\n",
       "      <th>comments</th>\n",
       "      <th>likes/dislikes</th>\n",
       "      <th>views/likes</th>\n",
       "      <th>views/comments</th>\n",
       "    </tr>\n",
       "  </thead>\n",
       "  <tbody>\n",
       "    <tr>\n",
       "      <th>0</th>\n",
       "      <td>Долгополов - депрессия, политика, секс втроем</td>\n",
       "      <td>Долгополов</td>\n",
       "      <td>84</td>\n",
       "      <td>7461608</td>\n",
       "      <td>304000.0</td>\n",
       "      <td>36000.0</td>\n",
       "      <td>2019-11-25</td>\n",
       "      <td>40781</td>\n",
       "      <td>8.444444</td>\n",
       "      <td>24.5448</td>\n",
       "      <td>182.968</td>\n",
       "    </tr>\n",
       "    <tr>\n",
       "      <th>1</th>\n",
       "      <td>Егор Крид - уход из Black Star и звонок Попере...</td>\n",
       "      <td>Егор Крид</td>\n",
       "      <td>113</td>\n",
       "      <td>22334678</td>\n",
       "      <td>634000.0</td>\n",
       "      <td>50000.0</td>\n",
       "      <td>2019-05-28</td>\n",
       "      <td>68999</td>\n",
       "      <td>12.680000</td>\n",
       "      <td>35.2282</td>\n",
       "      <td>323.696</td>\n",
       "    </tr>\n",
       "    <tr>\n",
       "      <th>2</th>\n",
       "      <td>Познер - о цензуре, страхе и Путине</td>\n",
       "      <td>Познер</td>\n",
       "      <td>78</td>\n",
       "      <td>12882333</td>\n",
       "      <td>338000.0</td>\n",
       "      <td>17000.0</td>\n",
       "      <td>2017-10-18</td>\n",
       "      <td>40944</td>\n",
       "      <td>19.882353</td>\n",
       "      <td>38.1134</td>\n",
       "      <td>314.633</td>\n",
       "    </tr>\n",
       "    <tr>\n",
       "      <th>3</th>\n",
       "      <td>Беслан. Помни</td>\n",
       "      <td>Беслан</td>\n",
       "      <td>190</td>\n",
       "      <td>21968899</td>\n",
       "      <td>1100000.0</td>\n",
       "      <td>32000.0</td>\n",
       "      <td>2019-09-02</td>\n",
       "      <td>128265</td>\n",
       "      <td>34.375000</td>\n",
       "      <td>19.9717</td>\n",
       "      <td>171.277</td>\n",
       "    </tr>\n",
       "    <tr>\n",
       "      <th>4</th>\n",
       "      <td>BadComedian - о Бондарчуке, Саше Грей и 10 луч...</td>\n",
       "      <td>BadComedian</td>\n",
       "      <td>63</td>\n",
       "      <td>16217778</td>\n",
       "      <td>461000.0</td>\n",
       "      <td>23000.0</td>\n",
       "      <td>2017-05-10</td>\n",
       "      <td>35355</td>\n",
       "      <td>20.043478</td>\n",
       "      <td>35.1796</td>\n",
       "      <td>458.712</td>\n",
       "    </tr>\n",
       "  </tbody>\n",
       "</table>\n",
       "</div>"
      ],
      "text/plain": [
       "                                          full_title         guest length  \\\n",
       "0      Долгополов - депрессия, политика, секс втроем   Долгополов      84   \n",
       "1  Егор Крид - уход из Black Star и звонок Попере...    Егор Крид     113   \n",
       "2                Познер - о цензуре, страхе и Путине       Познер      78   \n",
       "3                                      Беслан. Помни        Беслан    190   \n",
       "4  BadComedian - о Бондарчуке, Саше Грей и 10 луч...  BadComedian      63   \n",
       "\n",
       "      views      likes  dislikes       date comments  likes/dislikes  \\\n",
       "0   7461608   304000.0   36000.0 2019-11-25    40781        8.444444   \n",
       "1  22334678   634000.0   50000.0 2019-05-28    68999       12.680000   \n",
       "2  12882333   338000.0   17000.0 2017-10-18    40944       19.882353   \n",
       "3  21968899  1100000.0   32000.0 2019-09-02   128265       34.375000   \n",
       "4  16217778   461000.0   23000.0 2017-05-10    35355       20.043478   \n",
       "\n",
       "  views/likes views/comments  \n",
       "0     24.5448        182.968  \n",
       "1     35.2282        323.696  \n",
       "2     38.1134        314.633  \n",
       "3     19.9717        171.277  \n",
       "4     35.1796        458.712  "
      ]
     },
     "execution_count": 162,
     "metadata": {},
     "output_type": "execute_result"
    }
   ],
   "source": [
    "df.head()"
   ]
  },
  {
   "cell_type": "code",
   "execution_count": 163,
   "metadata": {},
   "outputs": [],
   "source": [
    "df.to_csv('vdud.csv', index=False)"
   ]
  },
  {
   "cell_type": "code",
   "execution_count": 164,
   "metadata": {},
   "outputs": [
    {
     "data": {
      "text/plain": [
       "datetime.date(2020, 11, 3)"
      ]
     },
     "execution_count": 164,
     "metadata": {},
     "output_type": "execute_result"
    }
   ],
   "source": [
    "datetime.datetime.today().date()"
   ]
  },
  {
   "cell_type": "code",
   "execution_count": null,
   "metadata": {},
   "outputs": [],
   "source": []
  }
 ],
 "metadata": {
  "kernelspec": {
   "display_name": "Python 3.8.3 64-bit",
   "language": "python",
   "name": "python38364bit67e6f4d3169f4b3285a20ff784197e12"
  },
  "language_info": {
   "codemirror_mode": {
    "name": "ipython",
    "version": 3
   },
   "file_extension": ".py",
   "mimetype": "text/x-python",
   "name": "python",
   "nbconvert_exporter": "python",
   "pygments_lexer": "ipython3",
   "version": "3.8.3"
  }
 },
 "nbformat": 4,
 "nbformat_minor": 4
}
