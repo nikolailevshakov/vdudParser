{
 "cells": [
  {
   "cell_type": "markdown",
   "metadata": {},
   "source": [
    "# Парсер для ютуб канала вдудь\n",
    "[Канал](https://www.youtube.com/channel/UCMCgOm8GZkHp8zJ6l7_hIuA)"
   ]
  },
  {
   "cell_type": "code",
   "execution_count": 1,
   "metadata": {},
   "outputs": [],
   "source": [
    "import pandas as pd\n",
    "from selenium.webdriver import Chrome\n",
    "from selenium.common.exceptions import NoSuchElementException \n",
    "import time\n",
    "import datetime\n",
    "\n",
    "import googleapiclient.discovery\n",
    "import requests\n",
    "import pickle"
   ]
  },
  {
   "cell_type": "markdown",
   "metadata": {},
   "source": [
    "Создаем таблицу для хранения данных"
   ]
  },
  {
   "cell_type": "code",
   "execution_count": 3,
   "metadata": {},
   "outputs": [],
   "source": [
    "start = time.time()\n",
    "cols = ['full_title', 'guest', 'length', 'views', 'likes', 'dislikes', 'date', 'comments_num']\n",
    "data = []\n",
    "df = pd.DataFrame(data = data, columns = cols)"
   ]
  },
  {
   "cell_type": "code",
   "execution_count": 4,
   "metadata": {},
   "outputs": [],
   "source": [
    "all_Videos = 'https://www.youtube.com/c/vdud/videos'"
   ]
  },
  {
   "cell_type": "code",
   "execution_count": 5,
   "metadata": {},
   "outputs": [],
   "source": [
    "driver = Chrome('C:/WebDriver/chromedriver')\n",
    "driver.get(all_Videos)\n",
    "driver.maximize_window()"
   ]
  },
  {
   "cell_type": "markdown",
   "metadata": {},
   "source": [
    "Скроллим вниз для подгрузки всех видео"
   ]
  },
  {
   "cell_type": "code",
   "execution_count": 6,
   "metadata": {},
   "outputs": [],
   "source": [
    "def scrollDown():\n",
    "    driver.execute_script(\"window.scrollTo(0, 1660)\")\n",
    "    time.sleep(2)\n",
    "    driver.execute_script(\"window.scrollTo(0, 3200)\")\n",
    "    time.sleep(2)\n",
    "    driver.execute_script(\"window.scrollTo(0, 5000)\")\n",
    "    time.sleep(2)"
   ]
  },
  {
   "cell_type": "code",
   "execution_count": 7,
   "metadata": {},
   "outputs": [],
   "source": [
    "scrollDown()"
   ]
  },
  {
   "cell_type": "markdown",
   "metadata": {},
   "source": [
    "Собираем ссылки на все видео канала"
   ]
  },
  {
   "cell_type": "code",
   "execution_count": 8,
   "metadata": {},
   "outputs": [],
   "source": [
    "play_list = driver.find_elements_by_id('thumbnail')\n",
    "\n",
    "hrefs = [video.get_attribute('href') for video in play_list]"
   ]
  },
  {
   "cell_type": "markdown",
   "metadata": {},
   "source": [
    "Некоторые ссылки дублируются"
   ]
  },
  {
   "cell_type": "code",
   "execution_count": 9,
   "metadata": {},
   "outputs": [
    {
     "data": {
      "text/plain": [
       "119"
      ]
     },
     "execution_count": 9,
     "metadata": {},
     "output_type": "execute_result"
    }
   ],
   "source": [
    "# It appears that some links were collected twice\n",
    "hrefs = list(set(hrefs))\n",
    "len(hrefs)"
   ]
  },
  {
   "cell_type": "markdown",
   "metadata": {},
   "source": [
    "Сохраняем ссылки"
   ]
  },
  {
   "cell_type": "code",
   "execution_count": 46,
   "metadata": {},
   "outputs": [],
   "source": [
    "with open('hrefs.pickle', 'wb') as f:\n",
    "    pickle.dump(hrefs, f)"
   ]
  },
  {
   "cell_type": "markdown",
   "metadata": {},
   "source": [
    "# Сбор данных о видео с помощью selenium"
   ]
  },
  {
   "cell_type": "markdown",
   "metadata": {},
   "source": [
    "## Объвление функций"
   ]
  },
  {
   "cell_type": "markdown",
   "metadata": {},
   "source": [
    "Проверяем есть ли на странице кнопка пропуска рекламы"
   ]
  },
  {
   "cell_type": "code",
   "execution_count": 10,
   "metadata": {},
   "outputs": [],
   "source": [
    "def checkIfBtnExists():\n",
    "    try:\n",
    "        driver.find_element_by_class_name('ytp-ad-skip-button-text')\n",
    "    except NoSuchElementException:\n",
    "        return False\n",
    "    return True"
   ]
  },
  {
   "cell_type": "markdown",
   "metadata": {},
   "source": [
    "Если есть реклама пропускаем её и собираем информацию о длительности выпуска"
   ]
  },
  {
   "cell_type": "code",
   "execution_count": 11,
   "metadata": {},
   "outputs": [],
   "source": [
    "def getLength():\n",
    "    length = driver.find_element_by_class_name('ytp-time-duration').text\n",
    "    \n",
    "    if checkIfBtnExists() \\\n",
    "    and driver.find_element_by_class_name('ytp-ad-skip-button-text').text in ('Пропустить рекламу', 'Пропустить'):\n",
    "        driver.find_element_by_class_name('ytp-ad-skip-button-text').click()\n",
    "    \n",
    "    if len(length)<5:\n",
    "        time.sleep(1.5)\n",
    "        return getLength()\n",
    "    elif len(length.split(':')) == 3:\n",
    "        return int(length.split(':')[0])*60 + int(length.split(':')[1])\n",
    "    else:\n",
    "        return int(length.split(':')[0])"
   ]
  },
  {
   "cell_type": "markdown",
   "metadata": {},
   "source": [
    "Собираем название выпуска"
   ]
  },
  {
   "cell_type": "code",
   "execution_count": 12,
   "metadata": {},
   "outputs": [],
   "source": [
    "def getTitle():\n",
    "    full_title = driver.title\n",
    "    \n",
    "    title_end = full_title.find(' / ')\n",
    "    if title_end < 0:\n",
    "        title_end = full_title.find('.')\n",
    "        if title_end < 0:\n",
    "            title_end = full_title.find('(') - 1\n",
    "            \n",
    "    full_title = full_title[0:title_end]\n",
    "    if full_title.find(' - ') > 0:\n",
    "        guest = full_title[0:full_title.find('-')]\n",
    "    elif full_title.find(' — ') > 0:\n",
    "            guest = full_title[0:full_title.find('—')]\n",
    "    elif full_title.find(' – ') > 0:\n",
    "        guest = full_title[0:full_title.find('–')]\n",
    "    elif full_title.find('. ') > 0:\n",
    "            guest = full_title[0:full_title.find('.')]\n",
    "    elif full_title.find(': ') > 0:\n",
    "            guest = full_title[0:full_title.find(':')]\n",
    "    else:\n",
    "        guest = full_title\n",
    "    return [full_title, guest]"
   ]
  },
  {
   "cell_type": "markdown",
   "metadata": {},
   "source": [
    "Собираем лайки, дизлайки и просмотры"
   ]
  },
  {
   "cell_type": "code",
   "execution_count": 13,
   "metadata": {},
   "outputs": [],
   "source": [
    "def getVideoStats():\n",
    "    views = driver.find_element_by_class_name('yt-view-count-renderer').text\n",
    "    views = int(views[0: views.find('п')-1].replace(' ', ''))\n",
    "    likesDislikes = driver.find_element_by_id('top-level-buttons').text\n",
    "    listLikDis = likesDislikes.replace(',', '.').split('\\n')\n",
    "    \n",
    "    if listLikDis[0].find('ТЫС.') > 0:\n",
    "        likes = float(listLikDis[0].split()[0])*1000\n",
    "    elif listLikDis[0].find('МЛН') > 0:\n",
    "        likes = float(listLikDis[0].split()[0])*1000000\n",
    "        \n",
    "    if listLikDis[1].find('ТЫС.') > 0:\n",
    "        dislikes = float(listLikDis[1].split()[0])*1000\n",
    "    elif listLikDis[1].find('МЛН') > 0:\n",
    "        dislikes = float(listLikDis[1].split()[0])*1000000 \n",
    "        \n",
    "    return [views, likes, dislikes]"
   ]
  },
  {
   "cell_type": "markdown",
   "metadata": {},
   "source": [
    "Собираем дату выпуска"
   ]
  },
  {
   "cell_type": "code",
   "execution_count": 14,
   "metadata": {},
   "outputs": [],
   "source": [
    "def getDate():\n",
    "    date = driver.find_element_by_id('date').text.split()\n",
    "    day = int(date[0][1:])\n",
    "    \n",
    "    months = ['янв', 'фев', 'мар', 'апр', 'мая', 'июн', 'июл', 'авг', 'сен', 'окт', 'ноя', 'дек']\n",
    "    for i, mon in enumerate(months):\n",
    "        if mon == date[1][:3]:\n",
    "            month = i+1\n",
    "            \n",
    "    year = int(date[2])\n",
    "    return datetime.datetime(year, month, day)"
   ]
  },
  {
   "cell_type": "markdown",
   "metadata": {},
   "source": [
    "Количество комментов с реплаями"
   ]
  },
  {
   "cell_type": "code",
   "execution_count": 15,
   "metadata": {},
   "outputs": [],
   "source": [
    "def getCommsNum():\n",
    "    driver.execute_script(\"window.scrollTo(0, 880)\")\n",
    "    time.sleep(3)\n",
    "    coms = driver.find_element_by_class_name('count-text').text\n",
    "    return int(coms.split()[0])*1000 + int(coms.split()[1])"
   ]
  },
  {
   "cell_type": "markdown",
   "metadata": {},
   "source": [
    "Добавляем информацю о выпуске в таблицу"
   ]
  },
  {
   "cell_type": "code",
   "execution_count": 16,
   "metadata": {},
   "outputs": [],
   "source": [
    "def dfAppend():\n",
    "    global df\n",
    "    item = [getTitle()[0], getTitle()[1], getLength(), getVideoStats()[0], getVideoStats()[1], \n",
    "          getVideoStats()[2], getDate(), getCommsNum()]\n",
    "    series = pd.Series(item, index=df.columns)\n",
    "    df = df.append(series, ignore_index=True)"
   ]
  },
  {
   "cell_type": "markdown",
   "metadata": {},
   "source": [
    "Запускаем сбор всей информации"
   ]
  },
  {
   "cell_type": "code",
   "execution_count": 17,
   "metadata": {},
   "outputs": [],
   "source": [
    "def goHrefs():\n",
    "    for href in hrefs:\n",
    "        if type(href) == str:\n",
    "            driver.get(href)\n",
    "            time.sleep(2)\n",
    "            dfAppend()"
   ]
  },
  {
   "cell_type": "markdown",
   "metadata": {},
   "source": [
    "## Выполнение функций"
   ]
  },
  {
   "cell_type": "code",
   "execution_count": 18,
   "metadata": {},
   "outputs": [
    {
     "name": "stdout",
     "output_type": "stream",
     "text": [
      "Time to get all the data: 13.63 mins\n"
     ]
    }
   ],
   "source": [
    "t = time.time()\n",
    "goHrefs()\n",
    "print('Time to get all the data: {} mins'.format(round((time.time() - t) / 60, 2)))"
   ]
  },
  {
   "cell_type": "code",
   "execution_count": 19,
   "metadata": {},
   "outputs": [
    {
     "data": {
      "text/plain": [
       "(118, 8)"
      ]
     },
     "execution_count": 19,
     "metadata": {},
     "output_type": "execute_result"
    }
   ],
   "source": [
    "df.shape"
   ]
  },
  {
   "cell_type": "code",
   "execution_count": 20,
   "metadata": {},
   "outputs": [
    {
     "data": {
      "text/html": [
       "<div>\n",
       "<style scoped>\n",
       "    .dataframe tbody tr th:only-of-type {\n",
       "        vertical-align: middle;\n",
       "    }\n",
       "\n",
       "    .dataframe tbody tr th {\n",
       "        vertical-align: top;\n",
       "    }\n",
       "\n",
       "    .dataframe thead th {\n",
       "        text-align: right;\n",
       "    }\n",
       "</style>\n",
       "<table border=\"1\" class=\"dataframe\">\n",
       "  <thead>\n",
       "    <tr style=\"text-align: right;\">\n",
       "      <th></th>\n",
       "      <th>full_title</th>\n",
       "      <th>guest</th>\n",
       "      <th>length</th>\n",
       "      <th>views</th>\n",
       "      <th>likes</th>\n",
       "      <th>dislikes</th>\n",
       "      <th>date</th>\n",
       "      <th>comments_num</th>\n",
       "    </tr>\n",
       "  </thead>\n",
       "  <tbody>\n",
       "    <tr>\n",
       "      <th>0</th>\n",
       "      <td>Максим Фадеев - о конфликте с Эрнстом и русско...</td>\n",
       "      <td>Максим Фадеев</td>\n",
       "      <td>52</td>\n",
       "      <td>8621967</td>\n",
       "      <td>167000.0</td>\n",
       "      <td>11000.0</td>\n",
       "      <td>2017-05-16</td>\n",
       "      <td>30245</td>\n",
       "    </tr>\n",
       "    <tr>\n",
       "      <th>1</th>\n",
       "      <td>Невзоров - о Фараоне и ориентации Милонова</td>\n",
       "      <td>Невзоров</td>\n",
       "      <td>85</td>\n",
       "      <td>14349677</td>\n",
       "      <td>326000.0</td>\n",
       "      <td>26000.0</td>\n",
       "      <td>2018-01-30</td>\n",
       "      <td>47203</td>\n",
       "    </tr>\n",
       "    <tr>\n",
       "      <th>2</th>\n",
       "      <td>Колокольников</td>\n",
       "      <td>Колокольников</td>\n",
       "      <td>72</td>\n",
       "      <td>3884574</td>\n",
       "      <td>79000.0</td>\n",
       "      <td>9200.0</td>\n",
       "      <td>2018-05-22</td>\n",
       "      <td>11053</td>\n",
       "    </tr>\n",
       "    <tr>\n",
       "      <th>3</th>\n",
       "      <td>Собчак - о Навальном, крестном и выборах</td>\n",
       "      <td>Собчак</td>\n",
       "      <td>96</td>\n",
       "      <td>14875828</td>\n",
       "      <td>251000.0</td>\n",
       "      <td>67000.0</td>\n",
       "      <td>2017-10-24</td>\n",
       "      <td>52065</td>\n",
       "    </tr>\n",
       "    <tr>\n",
       "      <th>4</th>\n",
       "      <td>Щербаков - спецназ, панк-рок, любовь</td>\n",
       "      <td>Щербаков</td>\n",
       "      <td>99</td>\n",
       "      <td>21323332</td>\n",
       "      <td>789000.0</td>\n",
       "      <td>45000.0</td>\n",
       "      <td>2020-01-28</td>\n",
       "      <td>125871</td>\n",
       "    </tr>\n",
       "  </tbody>\n",
       "</table>\n",
       "</div>"
      ],
      "text/plain": [
       "                                          full_title           guest length  \\\n",
       "0  Максим Фадеев - о конфликте с Эрнстом и русско...  Максим Фадеев      52   \n",
       "1         Невзоров - о Фараоне и ориентации Милонова       Невзоров      85   \n",
       "2                                      Колокольников   Колокольников     72   \n",
       "3           Собчак - о Навальном, крестном и выборах         Собчак      96   \n",
       "4               Щербаков - спецназ, панк-рок, любовь       Щербаков      99   \n",
       "\n",
       "      views     likes  dislikes       date comments_num  \n",
       "0   8621967  167000.0   11000.0 2017-05-16        30245  \n",
       "1  14349677  326000.0   26000.0 2018-01-30        47203  \n",
       "2   3884574   79000.0    9200.0 2018-05-22        11053  \n",
       "3  14875828  251000.0   67000.0 2017-10-24        52065  \n",
       "4  21323332  789000.0   45000.0 2020-01-28       125871  "
      ]
     },
     "execution_count": 20,
     "metadata": {},
     "output_type": "execute_result"
    }
   ],
   "source": [
    "df.head()"
   ]
  },
  {
   "cell_type": "code",
   "execution_count": 21,
   "metadata": {},
   "outputs": [],
   "source": [
    "df['likes/dislikes'] = df['likes']/df['dislikes']\n",
    "df['views/likes'] = df['views']/df['likes']\n",
    "df['views/comments_num'] = df['views']/df['comments_num']"
   ]
  },
  {
   "cell_type": "code",
   "execution_count": null,
   "metadata": {},
   "outputs": [],
   "source": [
    "df.to_csv('vdud.csv', index=False)"
   ]
  },
  {
   "cell_type": "markdown",
   "metadata": {},
   "source": [
    "# Собираем комменты с помощью Youtube API"
   ]
  },
  {
   "cell_type": "markdown",
   "metadata": {},
   "source": [
    "## Объявление функций"
   ]
  },
  {
   "cell_type": "markdown",
   "metadata": {},
   "source": [
    "Собираем id из списка собранных ссылок"
   ]
  },
  {
   "cell_type": "code",
   "execution_count": 80,
   "metadata": {},
   "outputs": [],
   "source": [
    "def getVideoIds(hrefs):\n",
    "    video_ids = []\n",
    "    for href in hrefs:\n",
    "        if type(href) == str:\n",
    "            video_ids.append(href.split('?v=')[1])\n",
    "    return video_ids"
   ]
  },
  {
   "cell_type": "markdown",
   "metadata": {},
   "source": [
    "API ключ"
   ]
  },
  {
   "cell_type": "code",
   "execution_count": 81,
   "metadata": {},
   "outputs": [],
   "source": [
    "my_api_key = 'твой api ключ'"
   ]
  },
  {
   "cell_type": "markdown",
   "metadata": {},
   "source": [
    "Собираем первые сто комментариев"
   ]
  },
  {
   "cell_type": "code",
   "execution_count": 82,
   "metadata": {},
   "outputs": [],
   "source": [
    "def getComms(video_id):\n",
    "    api_service_name = \"youtube\"\n",
    "    api_version = \"v3\"\n",
    "    DEVELOPER_KEY = my_api_key\n",
    "\n",
    "    youtube = googleapiclient.discovery.build(\n",
    "        api_service_name, api_version, developerKey = DEVELOPER_KEY)\n",
    "\n",
    "    request = youtube.commentThreads().list(\n",
    "        part = \"snippet\",\n",
    "        videoId = video_id,\n",
    "        maxResults = 100\n",
    "    )\n",
    "    init_response = request.execute()\n",
    "    all_comms = []\n",
    "    for item in init_response['items']:\n",
    "        all_comms.append(item['snippet']['topLevelComment']['snippet']['textOriginal'])\n",
    "        \n",
    "    getNextComms(init_response['nextPageToken'], video_id, all_comms)\n",
    "    \n",
    "    return all_comms"
   ]
  },
  {
   "cell_type": "markdown",
   "metadata": {},
   "source": [
    "Собираем остальные комменты"
   ]
  },
  {
   "cell_type": "code",
   "execution_count": 83,
   "metadata": {},
   "outputs": [],
   "source": [
    "def getNextComms(page_token, video_id, all_comms):\n",
    "    api_service_name = \"youtube\"\n",
    "    api_version = \"v3\"\n",
    "    DEVELOPER_KEY = my_api_key\n",
    "\n",
    "    youtube = googleapiclient.discovery.build(\n",
    "        api_service_name, api_version, developerKey = DEVELOPER_KEY)\n",
    "\n",
    "    request = youtube.commentThreads().list(\n",
    "        part = \"snippet\",\n",
    "        videoId = video_id,\n",
    "        maxResults = 100,\n",
    "        pageToken = page_token\n",
    "    )\n",
    "    \n",
    "    try:\n",
    "        response = request.execute()\n",
    "\n",
    "        print(len(all_comms), end=\"\\r\")\n",
    "\n",
    "        if len(response['items'])<99:\n",
    "            for item in response['items']:\n",
    "                all_comms.append(item['snippet']['topLevelComment']['snippet']['textOriginal'])\n",
    "            return\n",
    "        else:\n",
    "            for item in response['items']:\n",
    "                all_comms.append(item['snippet']['topLevelComment']['snippet']['textOriginal'])\n",
    "            page_token = response['nextPageToken']\n",
    "            return getNextComms(page_token, video_id, all_comms)\n",
    "    except Exception as ex:\n",
    "        print(ex)\n",
    "        return "
   ]
  },
  {
   "cell_type": "markdown",
   "metadata": {},
   "source": [
    "Запускаем процесс сбора комментов"
   ]
  },
  {
   "cell_type": "code",
   "execution_count": 84,
   "metadata": {},
   "outputs": [],
   "source": [
    "def getComsFromVideos(array_of_videos, n):\n",
    "    all_video_comms = []\n",
    "    for i in range(n, n+1):\n",
    "        all_video_comms.append(getComms(array_of_videos[i]))\n",
    "        print(i)\n",
    "        print(i)\n",
    "        if i==n+1:\n",
    "            return all_video_comms\n",
    "    return all_video_comms"
   ]
  },
  {
   "cell_type": "markdown",
   "metadata": {},
   "source": [
    "## Выполнение функций"
   ]
  },
  {
   "cell_type": "code",
   "execution_count": 98,
   "metadata": {},
   "outputs": [
    {
     "data": {
      "text/plain": [
       "119"
      ]
     },
     "execution_count": 98,
     "metadata": {},
     "output_type": "execute_result"
    }
   ],
   "source": [
    "with open('hrefs.pickle', 'rb') as f:\n",
    "    hrefs = pickle.load(f)\n",
    "len(hrefs)"
   ]
  },
  {
   "cell_type": "code",
   "execution_count": 108,
   "metadata": {},
   "outputs": [
    {
     "data": {
      "text/plain": [
       "118"
      ]
     },
     "execution_count": 108,
     "metadata": {},
     "output_type": "execute_result"
    }
   ],
   "source": [
    "len(all_comms)"
   ]
  },
  {
   "cell_type": "markdown",
   "metadata": {},
   "source": [
    "Из-за ограничений гугла на сбор информации, возможно собрать около 1 млн. комментов в сутки. Поэтому собираем комменты с 20 выпусков за день. Выводим количество собранных комментов и соотношение количества реплайев с количеством всех комментов. По соотношению реплайев и комментов проверяем много ли комментов собарли."
   ]
  },
  {
   "cell_type": "code",
   "execution_count": 69,
   "metadata": {},
   "outputs": [
    {
     "name": "stdout",
     "output_type": "stream",
     "text": [
      "Максим Фадеев  0\n",
      "3570\n",
      "ratio of replies to all comms 0.11803603901471317\n",
      "--------------------------------------------------\n",
      "Невзоров  1\n",
      "10480\n",
      "ratio of replies to all comms 0.22201978687795268\n",
      "--------------------------------------------------\n",
      "Колокольников 2\n",
      "1858\n",
      "ratio of replies to all comms 0.16809915859947525\n",
      "--------------------------------------------------\n",
      "Собчак  3\n",
      "11095\n",
      "ratio of replies to all comms 0.21309901085181984\n",
      "--------------------------------------------------\n",
      "Щербаков  4\n",
      "7823\n",
      "ratio of replies to all comms 0.062150932303707766\n",
      "--------------------------------------------------\n",
      "Ходорковский  5\n",
      "12207\n",
      "ratio of replies to all comms 0.3518374405533939\n",
      "--------------------------------------------------\n",
      "Влади (Каста)  6\n",
      "2152\n",
      "ratio of replies to all comms 0.156531859179517\n",
      "--------------------------------------------------\n",
      "Илья Найшуллер  7\n",
      "883\n",
      "ratio of replies to all comms 0.11418595629121944\n",
      "--------------------------------------------------\n",
      "IC3PEAK  8\n",
      "9747\n",
      "ratio of replies to all comms 0.334833390587427\n",
      "--------------------------------------------------\n",
      "MORGENSHTERN  9\n",
      "13375\n",
      "ratio of replies to all comms 0.17220290974636282\n",
      "--------------------------------------------------\n",
      "Хлебников  10\n",
      "1678\n",
      "ratio of replies to all comms 0.19905100830367733\n",
      "--------------------------------------------------\n",
      "Петров  11\n",
      "3512\n",
      "ratio of replies to all comms 0.15574279379157427\n",
      "--------------------------------------------------\n",
      "Лапенко  12\n",
      "8906\n",
      "ratio of replies to all comms 0.12199164440791727\n",
      "--------------------------------------------------\n",
      "Балагов  13\n",
      "3297\n",
      "ratio of replies to all comms 0.12584449788159854\n",
      "--------------------------------------------------\n",
      "Андрей Колесников  14\n",
      "13508\n",
      "ratio of replies to all comms 0.1749333057059235\n",
      "--------------------------------------------------\n",
      "Усович  15\n",
      "9295\n",
      "ratio of replies to all comms 0.30026489210492313\n",
      "--------------------------------------------------\n",
      "Давидыч  16\n",
      "73363\n",
      "ratio of replies to all comms 0.4076560181815151\n",
      "--------------------------------------------------\n",
      "Слепаков  17\n",
      "5104\n",
      "ratio of replies to all comms 0.17534095984059914\n",
      "--------------------------------------------------\n",
      "Лошак  18\n",
      "5708\n",
      "ratio of replies to all comms 0.2733323756165302\n",
      "--------------------------------------------------\n",
      "Соболев  19\n",
      "2765\n",
      "ratio of replies to all comms 0.1460953186093205\n",
      "--------------------------------------------------\n"
     ]
    }
   ],
   "source": [
    "# Checking if were collected descent amount of comments through the ratio of replies to all comms\n",
    "coms = list(df.comments_num[:20])\n",
    "nums_no_replies = [len(text) for text in all_comms_0_20]\n",
    "\n",
    "for i in range(len(all_comms_0_20)):\n",
    "    print(df.iloc[i].guest, i)\n",
    "    print(coms[i]-nums_no_replies[i])\n",
    "    print('ratio of replies to all comms', (coms[i] - nums_no_replies[i])/coms[i])\n",
    "    print('--------------------------------------------------')"
   ]
  },
  {
   "cell_type": "markdown",
   "metadata": {},
   "source": [
    "Сохраняем список комментов"
   ]
  },
  {
   "cell_type": "code",
   "execution_count": 105,
   "metadata": {},
   "outputs": [],
   "source": [
    "with open('all_comms_0_20.pickle', 'wb') as f:\n",
    "    pickle.dump(all_coms_0_20, f)"
   ]
  },
  {
   "cell_type": "code",
   "execution_count": 87,
   "metadata": {},
   "outputs": [],
   "source": [
    "df = pd.read_csv('vdud.csv')"
   ]
  },
  {
   "cell_type": "markdown",
   "metadata": {},
   "source": [
    "Объеденяем все комменты в один файл"
   ]
  },
  {
   "cell_type": "code",
   "execution_count": 106,
   "metadata": {},
   "outputs": [],
   "source": [
    "all_comms_0_20 = pd.read_pickle('all_comms_0_20.pickle')\n",
    "all_comms_21_40 = pd.read_pickle('all_comms_21_40.pickle')\n",
    "all_comms_41_60 = pd.read_pickle('all_comms_41_60.pickle')\n",
    "all_comms_61_80 = pd.read_pickle('all_comms_61_80.pickle')\n",
    "all_comms_81_100 = pd.read_pickle('all_comms_81_100.pickle')\n",
    "all_comms_101_118 = pd.read_pickle('all_comms_101_119.pickle')\n",
    "\n",
    "all_comms = all_comms_0_20+all_comms_21_40+all_comms_41_60+all_comms_61_80+all_comms_81_100+all_comms_101_118\n",
    "df['comms_text'] = all_comms"
   ]
  },
  {
   "cell_type": "code",
   "execution_count": 107,
   "metadata": {},
   "outputs": [],
   "source": [
    "with open('all_comms.pickle', 'wb') as f:\n",
    "    pickle.dump(all_comms, f)"
   ]
  },
  {
   "cell_type": "markdown",
   "metadata": {},
   "source": [
    "Смотрим, что получилось"
   ]
  },
  {
   "cell_type": "code",
   "execution_count": 61,
   "metadata": {},
   "outputs": [
    {
     "data": {
      "text/html": [
       "<div>\n",
       "<style scoped>\n",
       "    .dataframe tbody tr th:only-of-type {\n",
       "        vertical-align: middle;\n",
       "    }\n",
       "\n",
       "    .dataframe tbody tr th {\n",
       "        vertical-align: top;\n",
       "    }\n",
       "\n",
       "    .dataframe thead th {\n",
       "        text-align: right;\n",
       "    }\n",
       "</style>\n",
       "<table border=\"1\" class=\"dataframe\">\n",
       "  <thead>\n",
       "    <tr style=\"text-align: right;\">\n",
       "      <th></th>\n",
       "      <th>guest</th>\n",
       "      <th>comms_text</th>\n",
       "    </tr>\n",
       "  </thead>\n",
       "  <tbody>\n",
       "    <tr>\n",
       "      <th>0</th>\n",
       "      <td>Максим Фадеев</td>\n",
       "      <td>[Кое-что из внутренностей:\\n\\n0:37 Что Фадееву...</td>\n",
       "    </tr>\n",
       "    <tr>\n",
       "      <th>1</th>\n",
       "      <td>Невзоров</td>\n",
       "      <td>[00:38 Что и кому Невзоров преподает в итальян...</td>\n",
       "    </tr>\n",
       "    <tr>\n",
       "      <th>2</th>\n",
       "      <td>Колокольников</td>\n",
       "      <td>[0:23 Сниматься в настоящем крематории в гробу...</td>\n",
       "    </tr>\n",
       "    <tr>\n",
       "      <th>3</th>\n",
       "      <td>Собчак</td>\n",
       "      <td>[Кое-что из внутренностей:\\n\\n00:24 Еще 4 меся...</td>\n",
       "    </tr>\n",
       "    <tr>\n",
       "      <th>4</th>\n",
       "      <td>Щербаков</td>\n",
       "      <td>[Что происходит?\\n\\n1:02 Щербаков стал суперзв...</td>\n",
       "    </tr>\n",
       "    <tr>\n",
       "      <th>5</th>\n",
       "      <td>Ходорковский</td>\n",
       "      <td>[Кое-что из внутренностей:\\n\\n00:29 Какое собы...</td>\n",
       "    </tr>\n",
       "    <tr>\n",
       "      <th>6</th>\n",
       "      <td>Влади (Каста)</td>\n",
       "      <td>[Кое-что из внутренностей:\\n\\n1:38 Как в Росто...</td>\n",
       "    </tr>\n",
       "    <tr>\n",
       "      <th>7</th>\n",
       "      <td>Илья Найшуллер</td>\n",
       "      <td>[Кое-что из внутренностей:\\n\\n03:30 Почему кли...</td>\n",
       "    </tr>\n",
       "    <tr>\n",
       "      <th>8</th>\n",
       "      <td>IC3PEAK</td>\n",
       "      <td>[Еще одна ветка для на конкурса.\\nНу и кое-что...</td>\n",
       "    </tr>\n",
       "    <tr>\n",
       "      <th>9</th>\n",
       "      <td>MORGENSHTERN</td>\n",
       "      <td>[Варианты на конкурс - сюда. Кое-что из внутре...</td>\n",
       "    </tr>\n",
       "  </tbody>\n",
       "</table>\n",
       "</div>"
      ],
      "text/plain": [
       "             guest                                         comms_text\n",
       "0   Максим Фадеев   [Кое-что из внутренностей:\\n\\n0:37 Что Фадееву...\n",
       "1        Невзоров   [00:38 Что и кому Невзоров преподает в итальян...\n",
       "2    Колокольников  [0:23 Сниматься в настоящем крематории в гробу...\n",
       "3          Собчак   [Кое-что из внутренностей:\\n\\n00:24 Еще 4 меся...\n",
       "4        Щербаков   [Что происходит?\\n\\n1:02 Щербаков стал суперзв...\n",
       "5    Ходорковский   [Кое-что из внутренностей:\\n\\n00:29 Какое собы...\n",
       "6   Влади (Каста)   [Кое-что из внутренностей:\\n\\n1:38 Как в Росто...\n",
       "7  Илья Найшуллер   [Кое-что из внутренностей:\\n\\n03:30 Почему кли...\n",
       "8         IC3PEAK   [Еще одна ветка для на конкурса.\\nНу и кое-что...\n",
       "9    MORGENSHTERN   [Варианты на конкурс - сюда. Кое-что из внутре..."
      ]
     },
     "execution_count": 61,
     "metadata": {},
     "output_type": "execute_result"
    }
   ],
   "source": [
    "df[['guest', 'comms_text']].head(10)"
   ]
  },
  {
   "cell_type": "code",
   "execution_count": 62,
   "metadata": {},
   "outputs": [],
   "source": [
    "df.to_csv('vdud_coms.csv', index=False)"
   ]
  },
  {
   "cell_type": "markdown",
   "metadata": {},
   "source": [
    "Дата сбора последних комментов"
   ]
  },
  {
   "cell_type": "code",
   "execution_count": 31,
   "metadata": {},
   "outputs": [
    {
     "data": {
      "text/plain": [
       "datetime.date(2020, 11, 6)"
      ]
     },
     "execution_count": 31,
     "metadata": {},
     "output_type": "execute_result"
    }
   ],
   "source": [
    "datetime.datetime.today().date()"
   ]
  }
 ],
 "metadata": {
  "kernelspec": {
   "display_name": "Python 3.8.3 64-bit",
   "language": "python",
   "name": "python38364bit67e6f4d3169f4b3285a20ff784197e12"
  },
  "language_info": {
   "codemirror_mode": {
    "name": "ipython",
    "version": 3
   },
   "file_extension": ".py",
   "mimetype": "text/x-python",
   "name": "python",
   "nbconvert_exporter": "python",
   "pygments_lexer": "ipython3",
   "version": "3.8.3"
  }
 },
 "nbformat": 4,
 "nbformat_minor": 4
}
